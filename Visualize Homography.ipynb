{
 "cells": [
  {
   "cell_type": "code",
   "execution_count": 2,
   "metadata": {},
   "outputs": [
    {
     "data": {
      "application/vnd.jupyter.widget-view+json": {
       "model_id": "89375c71c65d4e5fbe06a51060936f94"
      }
     },
     "metadata": {},
     "output_type": "display_data"
    }
   ],
   "source": [
    "%matplotlib inline\n",
    "\n",
    "# this notebook requires ipywidgets - see https://github.com/jupyter-widgets/ipywidgets/\n",
    "\n",
    "import matplotlib.pyplot as plt\n",
    "from ipywidgets import interactive, FloatSlider, HBox, VBox\n",
    "from IPython.display import display\n",
    "\n",
    "\n",
    "def draw(H00=1, H01=0, H02=0, H10=0, H11=1, H12=0, H20=0, H21=0, H22=1):\n",
    "    # original points that we want to transform\n",
    "    p0 = np.array([\n",
    "        (-1, -1,  1), # x1, y1, w1\n",
    "        ( 1, -1,  1), # x2, y2, w2\n",
    "        ( 1,  1,  1), # ...\n",
    "        (-1,  1,  1), \n",
    "        (-1, -1,  1), # repeat first point\n",
    "    ] )\n",
    "    # build homography matrix\n",
    "    H = np.array([(H00, H01, H02),\n",
    "                  (H10, H11, H12),\n",
    "                  (H20, H21, H22)])\n",
    "    # transform points\n",
    "    # we need some transpose operations to make this matrix multiplication work\n",
    "    #  - this is the same as [np.dot(H, pi) for pi in p0]\n",
    "    p1 = np.dot(H, p0.T).T\n",
    "    # normalization - divide by w\n",
    "    p1[:, 0] /= p1[:, 2] # x / w\n",
    "    p1[:, 1] /= p1[:, 2] # y / w\n",
    "    # visualize\n",
    "    plt.figure(figsize=(10, 8))\n",
    "    # put homography matrix as text in the middle\n",
    "    H_txt = \"% 3.1f % 3.1f % 3.1f\\n% 3.1f % 3.1f % 3.1f\\n% 3.1f % 3.1f % 3.1f\" % tuple(H.ravel())\n",
    "    plt.text(0, 0, H_txt, va='center', ha='center', family='monospace', fontsize=16)\n",
    "    # show points p0\n",
    "    plt.plot(p0[:, 0], p0[:, 1], c='r', lw=3)\n",
    "    # show transformed points\n",
    "    plt.plot(p1[:, 0], p1[:, 1], c='g', lw=2)\n",
    "    # set limits to -2 ... 2 for x and y axis\n",
    "    plt.xlim(-2, 2)\n",
    "    plt.ylim(-2, 2)\n",
    "    plt.show()\n",
    "    \n",
    "    \n",
    "# make a slider for each of the 3x3 entries in the matrix\n",
    "H00_widget = FloatSlider(value=1, min=-1., max=2., step=0.1)\n",
    "H01_widget = FloatSlider(value=0, min=-1., max=2., step=0.1)\n",
    "H02_widget = FloatSlider(value=0, min=-1., max=2., step=0.1)\n",
    "H10_widget = FloatSlider(value=0, min=-1., max=2., step=0.1)\n",
    "H11_widget = FloatSlider(value=1, min=-1., max=2., step=0.1)\n",
    "H12_widget = FloatSlider(value=0, min=-1., max=2., step=0.1)\n",
    "H20_widget = FloatSlider(value=0, min=-1., max=2., step=0.1)\n",
    "H21_widget = FloatSlider(value=0, min=-1., max=2., step=0.1)\n",
    "H22_widget = FloatSlider(value=1, min=-1., max=2., step=0.1)\n",
    "\n",
    "w = interactive(\n",
    "    draw, \n",
    "    H00=H00_widget, H01=H01_widget, H02=H02_widget,\n",
    "    H10=H10_widget, H11=H11_widget, H12=H12_widget,\n",
    "    H20=H20_widget, H21=H21_widget, H22=H22_widget,\n",
    ")\n",
    "\n",
    "# gui layout\n",
    "VBox([\n",
    "    HBox(w.children[0:3]),\n",
    "    HBox(w.children[3:6]),\n",
    "    HBox(w.children[6:9]),\n",
    "    w.children[-1],\n",
    "])"
   ]
  }
 ],
 "metadata": {
  "kernelspec": {
   "display_name": "Python 2",
   "language": "python",
   "name": "python2"
  },
  "language_info": {
   "codemirror_mode": {
    "name": "ipython",
    "version": 2
   },
   "file_extension": ".py",
   "mimetype": "text/x-python",
   "name": "python",
   "nbconvert_exporter": "python",
   "pygments_lexer": "ipython2",
   "version": "2.7.13"
  }
 },
 "nbformat": 4,
 "nbformat_minor": 2
}
